{
 "cells": [
  {
   "cell_type": "markdown",
   "id": "89da086d",
   "metadata": {},
   "source": [
    "# Data Science Tools and Ecosystem"
   ]
  },
  {
   "cell_type": "markdown",
   "id": "dd07a6e9",
   "metadata": {},
   "source": [
    "### In this notebook, Data Science Tools and Ecosystem are summarized."
   ]
  },
  {
   "cell_type": "markdown",
   "id": "c61deded",
   "metadata": {},
   "source": [
    "**Objectives:**\n",
    "- Some of the commonly used libraries used by Data Scientists\n",
    "- Some of the commonly used programming languages used by Data Scientists\n",
    "- arithmatic expression"
   ]
  },
  {
   "cell_type": "markdown",
   "id": "7ef7c6b9",
   "metadata": {},
   "source": [
    "#### Some of the popular languages that Data Scientists use are:\n",
    "\n",
    "* Python \n",
    "* R\n",
    "* SQL\n",
    "* Julia"
   ]
  },
  {
   "cell_type": "markdown",
   "id": "faea82ce",
   "metadata": {},
   "source": [
    "### Some of the commonly used libraries used by Data Scientists include:\n",
    "\n",
    "* NumPy\n",
    "* Seaborn\n",
    "* Scikit learn \n",
    "* pandas "
   ]
  },
  {
   "cell_type": "markdown",
   "id": "733d5a98",
   "metadata": {},
   "source": [
    "| Data Science Tools |\n",
    "|--------------------|\n",
    "| Jupyter notebook   |\n",
    "|--------------------|\n",
    "| R                  |\n",
    "|--------------------|\n",
    "|Python              |\n",
    "|--------------------|"
   ]
  },
  {
   "cell_type": "markdown",
   "id": "6f0d1bb9",
   "metadata": {},
   "source": [
    "### Below are a few examples of evaluating arithmetic expressions in Python:\n",
    "\n",
    "/\n",
    "+\n",
    "-\n"
   ]
  },
  {
   "cell_type": "code",
   "execution_count": 1,
   "id": "f611dbe4",
   "metadata": {},
   "outputs": [
    {
     "data": {
      "text/plain": [
       "17"
      ]
     },
     "execution_count": 1,
     "metadata": {},
     "output_type": "execute_result"
    }
   ],
   "source": [
    "# This a simple arithmetic expression to mutiply then add integers\n",
    "(3*4)+5"
   ]
  },
  {
   "cell_type": "code",
   "execution_count": 2,
   "id": "9239acc5",
   "metadata": {},
   "outputs": [
    {
     "data": {
      "text/plain": [
       "3.3333333333333335"
      ]
     },
     "execution_count": 2,
     "metadata": {},
     "output_type": "execute_result"
    }
   ],
   "source": [
    "#This will convert 200 minutes to hours by diving by 60\n",
    "\n",
    "200/60"
   ]
  },
  {
   "cell_type": "markdown",
   "id": "690d329d",
   "metadata": {},
   "source": [
    "## Author\n",
    "Ali Mo"
   ]
  },
  {
   "cell_type": "code",
   "execution_count": null,
   "id": "13510484",
   "metadata": {},
   "outputs": [],
   "source": []
  }
 ],
 "metadata": {
  "kernelspec": {
   "display_name": "Python 3 (ipykernel)",
   "language": "python",
   "name": "python3"
  },
  "language_info": {
   "codemirror_mode": {
    "name": "ipython",
    "version": 3
   },
   "file_extension": ".py",
   "mimetype": "text/x-python",
   "name": "python",
   "nbconvert_exporter": "python",
   "pygments_lexer": "ipython3",
   "version": "3.10.8"
  }
 },
 "nbformat": 4,
 "nbformat_minor": 5
}
